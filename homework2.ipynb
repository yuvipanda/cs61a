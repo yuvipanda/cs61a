{
 "cells": [
  {
   "cell_type": "markdown",
   "metadata": {},
   "source": [
    "From http://www-inst.eecs.berkeley.edu/~cs61a/sp12/hw/hw2.html "
   ]
  },
  {
   "cell_type": "markdown",
   "metadata": {},
   "source": [
    "Q1. The summation function from lecture is only the simplest of a vast number of similar abstractions that can be captured as higher-order functions. Write a similar product function that returns the product of the values of a function for n natural number arguments. Show how to define the factorial function in terms of product:"
   ]
  },
  {
   "cell_type": "code",
   "execution_count": 6,
   "metadata": {
    "collapsed": true
   },
   "outputs": [],
   "source": [
    "def product(n, term):\n",
    "    \"\"\"Return the product of the first n terms in the sequence formed\n",
    "    by applying term to the integers 1, ..., n.\n",
    "\n",
    "    term -- a function that takes one argument\n",
    "    \"\"\"\n",
    "    if n == 1:\n",
    "        return n\n",
    "    return n * product(term(n-1), term)"
   ]
  },
  {
   "cell_type": "code",
   "execution_count": 11,
   "metadata": {
    "collapsed": false
   },
   "outputs": [],
   "source": [
    "def factorial(n):\n",
    "    \"\"\"\n",
    "    Returns the factorial of n.\n",
    "    \"\"\"\n",
    "    return product(n, lambda x: x)"
   ]
  },
  {
   "cell_type": "code",
   "execution_count": 14,
   "metadata": {
    "collapsed": false
   },
   "outputs": [],
   "source": [
    "def test_factorial():\n",
    "    assert factorial(4) == 24\n",
    "    assert factorial(5) == 120\n",
    "test_factorial()"
   ]
  },
  {
   "cell_type": "markdown",
   "metadata": {},
   "source": [
    "Q2. Show that both summation and product are instances of a more general function, called accumulate.\n",
    "\n",
    "Accumulate takes as arguments the same arguments term and n as summation and product, together with a combiner function (of two arguments) that specifies how the accumulation of the preceding terms is to be combined with each value returned by term, and a start value that specifies what base value to use to start the accumulation. Implement accumulate and show how summation and product can both be defined as simple calls to accumulate."
   ]
  },
  {
   "cell_type": "code",
   "execution_count": 29,
   "metadata": {
    "collapsed": true
   },
   "outputs": [],
   "source": [
    "def accumulate(combiner, start, n, term):\n",
    "    \"\"\"Return the result of combining the first n terms in a sequence.\"\"\"\n",
    "    if n == start:\n",
    "        return term(n)\n",
    "    return combiner(n, accumulate(combiner, start, term(n-1), term))"
   ]
  },
  {
   "cell_type": "code",
   "execution_count": 30,
   "metadata": {
    "collapsed": false
   },
   "outputs": [],
   "source": [
    "def product_acc(n, term):\n",
    "    \"\"\"\n",
    "    Redefinition of the 'product' function earlier to use accumulate\n",
    "    \"\"\"\n",
    "    return accumulate(lambda a, b: a * b, 1, n, term)\n",
    "\n",
    "def factorial_acc(n):\n",
    "    \"\"\"\n",
    "    Returns the factorial of n.\n",
    "    \"\"\"\n",
    "    return product_acc(n, lambda x: x)\n",
    "\n",
    "def test_factorial_acc():\n",
    "    assert factorial_acc(4) == 24\n",
    "    assert factorial_acc(5) == 120\n",
    "test_factorial_acc()"
   ]
  },
  {
   "cell_type": "code",
   "execution_count": 32,
   "metadata": {
    "collapsed": false
   },
   "outputs": [],
   "source": [
    "def summation_acc(n, term):\n",
    "    \"\"\"\n",
    "    Redefinition of summation to use accumulate\n",
    "    \"\"\"\n",
    "    return accumulate(lambda a, b: a + b, 1, n, term)\n",
    "\n",
    "def simple_sum(n):\n",
    "    return summation_acc(n, lambda x: x)\n",
    "\n",
    "def test_summation_acc():\n",
    "    assert simple_sum(5) == 15\n",
    "    assert simple_sum(1) == 1\n",
    "test_summation_acc()"
   ]
  },
  {
   "cell_type": "markdown",
   "metadata": {},
   "source": [
    "Q3. Define a function double that takes a function of one argument as an argument and returns a function that applies the original function twice. For example, if successor is a function that returns 1 more than its argument, then double(inc) should be a function that returns two more:"
   ]
  },
  {
   "cell_type": "code",
   "execution_count": 36,
   "metadata": {
    "collapsed": false
   },
   "outputs": [],
   "source": [
    "def double(f):\n",
    "    \"\"\"Return a function that applies f twice.\"\"\"\n",
    "    return lambda x: f(f(x))\n",
    "\n",
    "def test_double():\n",
    "    assert double(simple_sum)(5) == simple_sum(simple_sum(5))\n",
    "test_double()"
   ]
  },
  {
   "cell_type": "markdown",
   "metadata": {},
   "source": [
    "Q4. If f is a numerical function and n is a positive integer, then we can form the nth repeated application of f, which is defined to be the function whose value at x is f(f(...(f(x))...)). For example, if f adds 1 to its argument, then the nth repeated application of f adds n. Write a function that takes as inputs a function f and a positive integer n and returns the function that computes the nth repeated application of f:"
   ]
  },
  {
   "cell_type": "code",
   "execution_count": 45,
   "metadata": {
    "collapsed": false
   },
   "outputs": [],
   "source": [
    "def repeated(f, n):\n",
    "    \"\"\"Return the function that computes the nth application of f.\"\"\"\n",
    "    if n == 1:\n",
    "        return f\n",
    "    def compose(a, b):\n",
    "        return lambda x: a(b(x))\n",
    "    return lambda x:  f(repeated(f, n-1)(x))"
   ]
  },
  {
   "cell_type": "code",
   "execution_count": 46,
   "metadata": {
    "collapsed": false
   },
   "outputs": [],
   "source": [
    "def test_repeated():\n",
    "    assert repeated(lambda x: x**2, 2)(5) == 625\n",
    "test_repeated()"
   ]
  },
  {
   "cell_type": "markdown",
   "metadata": {},
   "source": [
    "Extra for Experts: Q5. The logician Alonzo Church invented a system of representing non-negative integers entirely using functions. Here are the definitions of 0, and a function that returns 1 more than its argument:"
   ]
  },
  {
   "cell_type": "code",
   "execution_count": 47,
   "metadata": {
    "collapsed": true
   },
   "outputs": [],
   "source": [
    "def zero(f):\n",
    "    return lambda x: x\n",
    "\n",
    "def successor(n):\n",
    "    return lambda f: lambda x: f(n(f)(x))"
   ]
  },
  {
   "cell_type": "markdown",
   "metadata": {},
   "source": [
    "This representation is known as Church numerals. Define one and two directly, which are also functions. To get started, apply successor to zero. Then, give a direct definition of the add function (not in terms of repeated application of successor) over Church numerals. Finally, implement a function church_to_int that converts a church numeral argument to a regular Python int.\n",
    "\n",
    "It is easy to find answers to this question on the Internet. Try to solve it on your own before looking it up!"
   ]
  },
  {
   "cell_type": "code",
   "execution_count": 58,
   "metadata": {
    "collapsed": true
   },
   "outputs": [],
   "source": [
    "def one(f):\n",
    "    return f # By substituting and simplifying n=zero in sucessor"
   ]
  },
  {
   "cell_type": "code",
   "execution_count": 59,
   "metadata": {
    "collapsed": false
   },
   "outputs": [],
   "source": [
    "def two(f):\n",
    "    return lambda x: f(f(x))"
   ]
  },
  {
   "cell_type": "code",
   "execution_count": 172,
   "metadata": {
    "collapsed": false
   },
   "outputs": [],
   "source": [
    "def add(f, g):\n",
    "    return lambda y: lambda x: f(y)(g(y)(x)) # I still need to unpack how this works"
   ]
  },
  {
   "cell_type": "markdown",
   "metadata": {},
   "source": [
    "So the to integer setup was what I first wrote, and I somehow wrote up the solution and then was not sure how it worked almost immediately. This feels like one of those things where the answer is always something that's just within grasp but not quite...\n",
    "\n",
    "Ok, so I think a Church Number n(f(x)) is defined as the number of times you are recursively applying an arbitrary function f n times starting at x.\n",
    "\n",
    "So if we apply (x + 1) n times starting at 0, we'll get n. \n",
    "\n",
    "For say, '3', it expands to:\n",
    "    0 + 1 = 0\n",
    "    1 + 1 = 2\n",
    "    2 + 1 = 3\n",
    "    \n",
    "Addition works by saying - once you've applied it f times, apply it again g times! Hence `f(y)(g(y)(x))`\n",
    "\n",
    "Let's write that out for f = 3, g = 2, and the function is x + 1 again and starts at 0\n",
    "\n",
    "    g(x+1)(0)\n",
    "    0 + 1 = 1\n",
    "    1 + 1 = 2\n",
    "    \n",
    "Then we pass that as the *starting point* for f\n",
    "\n",
    "    f(x+1)(2)\n",
    "    2 + 1 = 3\n",
    "    3 + 1 = 4\n",
    "    4 + 1 = 5\n",
    "   "
   ]
  },
  {
   "cell_type": "code",
   "execution_count": 187,
   "metadata": {
    "collapsed": false
   },
   "outputs": [
    {
     "data": {
      "text/plain": [
       "3"
      ]
     },
     "execution_count": 187,
     "metadata": {},
     "output_type": "execute_result"
    }
   ],
   "source": [
    "def church_to_int(n):\n",
    "    return n(lambda x: x + 1)(0) # I have no memory of how I hit this as an answer...\n",
    "church_to_int(successor(two))"
   ]
  },
  {
   "cell_type": "code",
   "execution_count": 188,
   "metadata": {
    "collapsed": false
   },
   "outputs": [
    {
     "data": {
      "text/plain": [
       "3"
      ]
     },
     "execution_count": 188,
     "metadata": {},
     "output_type": "execute_result"
    }
   ],
   "source": [
    "church_to_int(add(successor(two), zero))"
   ]
  },
  {
   "cell_type": "code",
   "execution_count": null,
   "metadata": {
    "collapsed": true
   },
   "outputs": [],
   "source": []
  }
 ],
 "metadata": {
  "kernelspec": {
   "display_name": "Python 3",
   "language": "python",
   "name": "python3"
  },
  "language_info": {
   "codemirror_mode": {
    "name": "ipython",
    "version": 3
   },
   "file_extension": ".py",
   "mimetype": "text/x-python",
   "name": "python",
   "nbconvert_exporter": "python",
   "pygments_lexer": "ipython3",
   "version": "3.4.4"
  }
 },
 "nbformat": 4,
 "nbformat_minor": 0
}
